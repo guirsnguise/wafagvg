{
 "cells": [
  {
   "cell_type": "code",
   "execution_count": 4,
   "metadata": {},
   "outputs": [
    {
     "name": "stdout",
     "output_type": "stream",
     "text": [
      "均值：7.20\n",
      "均值在置信水平0.95下的置信区间为： (7.171337577138237, 7.2214184794700635)\n"
     ]
    }
   ],
   "source": [
    "import pandas as pd  \n",
    "from scipy import stats  \n",
    "# 打开数据文件  \n",
    "file_path = r\"C:\\Users\\YUESHENG\\Desktop\\wafagvg\\movie_data_cleaned.csv\"  # 使用双反斜杠代替反斜杠  \n",
    "df_movies = pd.read_csv(file_path)\n",
    "file_path = r\"C:\\Users\\YUESHENG\\Desktop\\wafagvg\\movie_data_cleaned.csv\"  # 使用双反斜杠代替反斜杠  \n",
    "df_movies = pd.read_csv(file_path)  \n",
    "# 计算均值和标准误差  \n",
    "mean = df_movies['average'].mean()  \n",
    "std_error = stats.sem(df_movies['average'])  \n",
    "# 设定置信水平  \n",
    "confidence_level = 0.95  \n",
    "# 设定自由度  \n",
    "df = len(df_movies['average']) - 1  \n",
    "# 计算置信区间  \n",
    "confidence_interval = stats.t.interval(confidence_level, df, loc=mean, scale=std_error)  \n",
    "# 输出结果  \n",
    "print(f\"均值：{mean:.2f}\")  \n",
    "print(f\"均值在置信水平{confidence_level}下的置信区间为：\", confidence_interval)  "
   ]
  },
  {
   "cell_type": "code",
   "execution_count": 6,
   "metadata": {},
   "outputs": [
    {
     "name": "stdout",
     "output_type": "stream",
     "text": [
      "随机选择的100个样本的均值：7.08\n",
      "均值在置信水平0.95下的置信区间为：(6.829017637331827, 7.320982362668175)\n"
     ]
    }
   ],
   "source": [
    "import pandas as pd  \n",
    "from scipy import stats  \n",
    "import numpy as np  \n",
    "  \n",
    "# 打开数据文件  \n",
    "file_path = r\"C:\\Users\\YUESHENG\\Desktop\\wafagvg\\movie_data_cleaned.csv\"  # 使用双反斜杠代替反斜杠  \n",
    "df_movies = pd.read_csv(file_path)  \n",
    "  \n",
    "# 随机选择100个样本  \n",
    "sample_size = 100  \n",
    "indices = np.random.choice(df_movies.index, size=sample_size, replace=False)  \n",
    "selected_data = df_movies.loc[indices]  \n",
    "  \n",
    "# 计算均值和标准误差  \n",
    "mean = selected_data['average'].mean()  \n",
    "std_error = stats.sem(selected_data['average'])  \n",
    "  \n",
    "# 设定置信水平  \n",
    "confidence_level = 0.95  \n",
    "  \n",
    "# 设定自由度  \n",
    "df = sample_size - 1  # 注意这里，因为现在是从100个样本中计算，所以自由度应该是样本数量减去1  \n",
    "  \n",
    "# 计算置信区间  \n",
    "confidence_interval = stats.t.interval(confidence_level, df, loc=mean, scale=std_error)  \n",
    "  \n",
    "# 输出结果  \n",
    "print(f\"随机选择的100个样本的均值：{mean:.2f}\")  \n",
    "print(f\"均值在置信水平{confidence_level}下的置信区间为：{confidence_interval}\")"
   ]
  }
 ],
 "metadata": {
  "kernelspec": {
   "display_name": "Python 3",
   "language": "python",
   "name": "python3"
  },
  "language_info": {
   "codemirror_mode": {
    "name": "ipython",
    "version": 3
   },
   "file_extension": ".py",
   "mimetype": "text/x-python",
   "name": "python",
   "nbconvert_exporter": "python",
   "pygments_lexer": "ipython3",
   "version": "3.8.10"
  }
 },
 "nbformat": 4,
 "nbformat_minor": 2
}
