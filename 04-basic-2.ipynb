{
 "cells": [
  {
   "cell_type": "code",
   "execution_count": 1,
   "metadata": {},
   "outputs": [],
   "source": [
    "students = [  \n",
    "    {\"姓名\": \"张三\", \"学号\": \"20180001\", \"github仓库地址\": \"https://github.com/zhangsan\"},  \n",
    "    {\"姓名\": \"李四\", \"学号\": \"20180002\", \"github仓库地址\": \"https://github.com/lisi\"},  \n",
    "    {\"姓名\": \"王五\", \"学号\": \"20180003\", \"github仓库地址\": \"https://github.com/wangwu\"},  \n",
    "    {\"姓名\": \"赵六\", \"学号\": \"20180004\", \"github仓库地址\": \"https://github.com/zhaoliu\"},  \n",
    "    {\"姓名\": \"孙七\", \"学号\": \"20180005\", \"github仓库地址\": \"https://github.com/sunqi\"},  \n",
    "    {\"姓名\": \"周八\", \"学号\": \"20180006\", \"github仓库地址\": \"https://github.com/zhouba\"},  \n",
    "    {\"姓名\": \"吴九\", \"学号\": \"20180007\", \"github仓库地址\": \"https://github.com/wujiu\"},  \n",
    "    {\"姓名\": \"郑十\", \"学号\": \"20180008\", \"github仓库地址\": \"https://github.com/zhengshi\"},  \n",
    "    {\"姓名\": \"陈十一\", \"学号\": \"20180009\", \"github仓库地址\": \"https://github.com/chenshiyi\"},  \n",
    "    {\"姓名\": \"萧十二\", \"学号\": \"20180010\", \"github仓库地址\": \"https://github.com/xiaoshier\"}  \n",
    "]\n"
   ]
  }
 ],
 "metadata": {
  "kernelspec": {
   "display_name": "Python 3",
   "language": "python",
   "name": "python3"
  },
  "language_info": {
   "codemirror_mode": {
    "name": "ipython",
    "version": 3
   },
   "file_extension": ".py",
   "mimetype": "text/x-python",
   "name": "python",
   "nbconvert_exporter": "python",
   "pygments_lexer": "ipython3",
   "version": "3.8.10"
  },
  "orig_nbformat": 4
 },
 "nbformat": 4,
 "nbformat_minor": 2
}
